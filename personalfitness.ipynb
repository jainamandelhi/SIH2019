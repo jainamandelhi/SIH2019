{
 "cells": [
  {
   "cell_type": "code",
   "execution_count": 1,
   "metadata": {
    "collapsed": true
   },
   "outputs": [],
   "source": [
    "import pandas as pd\n",
    "import numpy as np\n",
    "from random import randint"
   ]
  },
  {
   "cell_type": "code",
   "execution_count": 2,
   "metadata": {},
   "outputs": [
    {
     "data": {
      "text/html": [
       "<div>\n",
       "<style>\n",
       "    .dataframe thead tr:only-child th {\n",
       "        text-align: right;\n",
       "    }\n",
       "\n",
       "    .dataframe thead th {\n",
       "        text-align: left;\n",
       "    }\n",
       "\n",
       "    .dataframe tbody tr th {\n",
       "        vertical-align: top;\n",
       "    }\n",
       "</style>\n",
       "<table border=\"1\" class=\"dataframe\">\n",
       "  <thead>\n",
       "    <tr style=\"text-align: right;\">\n",
       "      <th></th>\n",
       "      <th>userid</th>\n",
       "      <th>age</th>\n",
       "      <th>gender(M-0 F-1)</th>\n",
       "      <th>weight</th>\n",
       "      <th>height</th>\n",
       "    </tr>\n",
       "  </thead>\n",
       "  <tbody>\n",
       "    <tr>\n",
       "      <th>0</th>\n",
       "      <td>1</td>\n",
       "      <td>56</td>\n",
       "      <td>1</td>\n",
       "      <td>66</td>\n",
       "      <td>162</td>\n",
       "    </tr>\n",
       "    <tr>\n",
       "      <th>1</th>\n",
       "      <td>2</td>\n",
       "      <td>53</td>\n",
       "      <td>0</td>\n",
       "      <td>71</td>\n",
       "      <td>157</td>\n",
       "    </tr>\n",
       "    <tr>\n",
       "      <th>2</th>\n",
       "      <td>3</td>\n",
       "      <td>17</td>\n",
       "      <td>1</td>\n",
       "      <td>63</td>\n",
       "      <td>155</td>\n",
       "    </tr>\n",
       "    <tr>\n",
       "      <th>3</th>\n",
       "      <td>4</td>\n",
       "      <td>49</td>\n",
       "      <td>0</td>\n",
       "      <td>62</td>\n",
       "      <td>186</td>\n",
       "    </tr>\n",
       "    <tr>\n",
       "      <th>4</th>\n",
       "      <td>5</td>\n",
       "      <td>45</td>\n",
       "      <td>0</td>\n",
       "      <td>73</td>\n",
       "      <td>186</td>\n",
       "    </tr>\n",
       "  </tbody>\n",
       "</table>\n",
       "</div>"
      ],
      "text/plain": [
       "   userid  age  gender(M-0 F-1)  weight  height\n",
       "0       1   56                1      66     162\n",
       "1       2   53                0      71     157\n",
       "2       3   17                1      63     155\n",
       "3       4   49                0      62     186\n",
       "4       5   45                0      73     186"
      ]
     },
     "execution_count": 2,
     "metadata": {},
     "output_type": "execute_result"
    }
   ],
   "source": [
    "df = pd.DataFrame(columns=['userid','age','gender(M-0 F-1)','weight','height'])\n",
    "df['userid'] = np.array([i for i in range(1,201)])\n",
    "df['age'] = np.array([randint(14,60) for i in range(1,201)])\n",
    "df['gender(M-0 F-1)']=np.array([randint(0,1) for i in range(1,201)])\n",
    "df['weight']=np.array([randint(45,80) for i in range(1,201)])\n",
    "df['height']=np.array([randint(155,188) for i in range(1,201)])\n",
    "\n",
    "df.head()"
   ]
  },
  {
   "cell_type": "code",
   "execution_count": 3,
   "metadata": {},
   "outputs": [
    {
     "data": {
      "text/html": [
       "<div>\n",
       "<style>\n",
       "    .dataframe thead tr:only-child th {\n",
       "        text-align: right;\n",
       "    }\n",
       "\n",
       "    .dataframe thead th {\n",
       "        text-align: left;\n",
       "    }\n",
       "\n",
       "    .dataframe tbody tr th {\n",
       "        vertical-align: top;\n",
       "    }\n",
       "</style>\n",
       "<table border=\"1\" class=\"dataframe\">\n",
       "  <thead>\n",
       "    <tr style=\"text-align: right;\">\n",
       "      <th></th>\n",
       "      <th>userid</th>\n",
       "      <th>average steps</th>\n",
       "      <th>average distance</th>\n",
       "    </tr>\n",
       "  </thead>\n",
       "  <tbody>\n",
       "    <tr>\n",
       "      <th>0</th>\n",
       "      <td>1</td>\n",
       "      <td>6325</td>\n",
       "      <td>6</td>\n",
       "    </tr>\n",
       "    <tr>\n",
       "      <th>1</th>\n",
       "      <td>2</td>\n",
       "      <td>255</td>\n",
       "      <td>0</td>\n",
       "    </tr>\n",
       "    <tr>\n",
       "      <th>2</th>\n",
       "      <td>3</td>\n",
       "      <td>10487</td>\n",
       "      <td>10</td>\n",
       "    </tr>\n",
       "    <tr>\n",
       "      <th>3</th>\n",
       "      <td>4</td>\n",
       "      <td>4316</td>\n",
       "      <td>4</td>\n",
       "    </tr>\n",
       "    <tr>\n",
       "      <th>4</th>\n",
       "      <td>5</td>\n",
       "      <td>5820</td>\n",
       "      <td>5</td>\n",
       "    </tr>\n",
       "  </tbody>\n",
       "</table>\n",
       "</div>"
      ],
      "text/plain": [
       "   userid  average steps  average distance\n",
       "0       1           6325                 6\n",
       "1       2            255                 0\n",
       "2       3          10487                10\n",
       "3       4           4316                 4\n",
       "4       5           5820                 5"
      ]
     },
     "execution_count": 3,
     "metadata": {},
     "output_type": "execute_result"
    }
   ],
   "source": [
    "weekdata = pd.DataFrame(columns=['userid','average steps','average distance'])\n",
    "weekdata['userid']= np.array([i for i in range(1,201)])\n",
    "weekdata['average distance']= np.array([randint(0,10) for i in range(1,201)])\n",
    "weekdata['average steps']= np.array([randint(1000*weekdata['average distance'][i],1000*(weekdata['average distance'][i]+1)) for i in range(200)])\n",
    "weekdata.head()"
   ]
  },
  {
   "cell_type": "code",
   "execution_count": 4,
   "metadata": {},
   "outputs": [
    {
     "data": {
      "text/html": [
       "<div>\n",
       "<style>\n",
       "    .dataframe thead tr:only-child th {\n",
       "        text-align: right;\n",
       "    }\n",
       "\n",
       "    .dataframe thead th {\n",
       "        text-align: left;\n",
       "    }\n",
       "\n",
       "    .dataframe tbody tr th {\n",
       "        vertical-align: top;\n",
       "    }\n",
       "</style>\n",
       "<table border=\"1\" class=\"dataframe\">\n",
       "  <thead>\n",
       "    <tr style=\"text-align: right;\">\n",
       "      <th></th>\n",
       "      <th>userid</th>\n",
       "      <th>steps</th>\n",
       "      <th>distance</th>\n",
       "    </tr>\n",
       "  </thead>\n",
       "  <tbody>\n",
       "    <tr>\n",
       "      <th>0</th>\n",
       "      <td>1</td>\n",
       "      <td>9542</td>\n",
       "      <td>9</td>\n",
       "    </tr>\n",
       "    <tr>\n",
       "      <th>1</th>\n",
       "      <td>2</td>\n",
       "      <td>8947</td>\n",
       "      <td>8</td>\n",
       "    </tr>\n",
       "    <tr>\n",
       "      <th>2</th>\n",
       "      <td>3</td>\n",
       "      <td>3340</td>\n",
       "      <td>3</td>\n",
       "    </tr>\n",
       "    <tr>\n",
       "      <th>3</th>\n",
       "      <td>4</td>\n",
       "      <td>5930</td>\n",
       "      <td>5</td>\n",
       "    </tr>\n",
       "    <tr>\n",
       "      <th>4</th>\n",
       "      <td>5</td>\n",
       "      <td>5483</td>\n",
       "      <td>5</td>\n",
       "    </tr>\n",
       "  </tbody>\n",
       "</table>\n",
       "</div>"
      ],
      "text/plain": [
       "   userid  steps  distance\n",
       "0       1   9542         9\n",
       "1       2   8947         8\n",
       "2       3   3340         3\n",
       "3       4   5930         5\n",
       "4       5   5483         5"
      ]
     },
     "execution_count": 4,
     "metadata": {},
     "output_type": "execute_result"
    }
   ],
   "source": [
    "todaydata= pd.DataFrame(columns=['userid','steps','distance'])\n",
    "todaydata['userid']= np.array([i for i in range(1,201)])\n",
    "todaydata['distance']= np.array([randint(0,10) for i in range(1,201)])\n",
    "\n",
    "todaydata['steps']= np.array([randint(1000*todaydata['distance'][i],1000*(todaydata['distance'][i]+1)) for i in range(200)])\n",
    "todaydata.head()"
   ]
  },
  {
   "cell_type": "code",
   "execution_count": 5,
   "metadata": {},
   "outputs": [
    {
     "data": {
      "text/html": [
       "<div>\n",
       "<style>\n",
       "    .dataframe thead tr:only-child th {\n",
       "        text-align: right;\n",
       "    }\n",
       "\n",
       "    .dataframe thead th {\n",
       "        text-align: left;\n",
       "    }\n",
       "\n",
       "    .dataframe tbody tr th {\n",
       "        vertical-align: top;\n",
       "    }\n",
       "</style>\n",
       "<table border=\"1\" class=\"dataframe\">\n",
       "  <thead>\n",
       "    <tr style=\"text-align: right;\">\n",
       "      <th></th>\n",
       "      <th>userid</th>\n",
       "      <th>age</th>\n",
       "      <th>gender</th>\n",
       "      <th>weight</th>\n",
       "      <th>height</th>\n",
       "      <th>average distance</th>\n",
       "      <th>average steps</th>\n",
       "      <th>distance</th>\n",
       "      <th>steps</th>\n",
       "    </tr>\n",
       "  </thead>\n",
       "  <tbody>\n",
       "    <tr>\n",
       "      <th>0</th>\n",
       "      <td>1</td>\n",
       "      <td>56</td>\n",
       "      <td>1</td>\n",
       "      <td>66</td>\n",
       "      <td>162</td>\n",
       "      <td>6</td>\n",
       "      <td>6325</td>\n",
       "      <td>9</td>\n",
       "      <td>9542</td>\n",
       "    </tr>\n",
       "    <tr>\n",
       "      <th>1</th>\n",
       "      <td>2</td>\n",
       "      <td>53</td>\n",
       "      <td>0</td>\n",
       "      <td>71</td>\n",
       "      <td>157</td>\n",
       "      <td>0</td>\n",
       "      <td>255</td>\n",
       "      <td>8</td>\n",
       "      <td>8947</td>\n",
       "    </tr>\n",
       "    <tr>\n",
       "      <th>2</th>\n",
       "      <td>3</td>\n",
       "      <td>17</td>\n",
       "      <td>1</td>\n",
       "      <td>63</td>\n",
       "      <td>155</td>\n",
       "      <td>10</td>\n",
       "      <td>10487</td>\n",
       "      <td>3</td>\n",
       "      <td>3340</td>\n",
       "    </tr>\n",
       "    <tr>\n",
       "      <th>3</th>\n",
       "      <td>4</td>\n",
       "      <td>49</td>\n",
       "      <td>0</td>\n",
       "      <td>62</td>\n",
       "      <td>186</td>\n",
       "      <td>4</td>\n",
       "      <td>4316</td>\n",
       "      <td>5</td>\n",
       "      <td>5930</td>\n",
       "    </tr>\n",
       "    <tr>\n",
       "      <th>4</th>\n",
       "      <td>5</td>\n",
       "      <td>45</td>\n",
       "      <td>0</td>\n",
       "      <td>73</td>\n",
       "      <td>186</td>\n",
       "      <td>5</td>\n",
       "      <td>5820</td>\n",
       "      <td>5</td>\n",
       "      <td>5483</td>\n",
       "    </tr>\n",
       "  </tbody>\n",
       "</table>\n",
       "</div>"
      ],
      "text/plain": [
       "   userid  age  gender  weight  height  average distance  average steps  \\\n",
       "0       1   56       1      66     162                 6           6325   \n",
       "1       2   53       0      71     157                 0            255   \n",
       "2       3   17       1      63     155                10          10487   \n",
       "3       4   49       0      62     186                 4           4316   \n",
       "4       5   45       0      73     186                 5           5820   \n",
       "\n",
       "   distance  steps  \n",
       "0         9   9542  \n",
       "1         8   8947  \n",
       "2         3   3340  \n",
       "3         5   5930  \n",
       "4         5   5483  "
      ]
     },
     "execution_count": 5,
     "metadata": {},
     "output_type": "execute_result"
    }
   ],
   "source": [
    "outputdf=pd.DataFrame()\n",
    "outputdf['userid']= np.array([i for i in range(1,201)])\n",
    "outputdf['age'] =df['age'] \n",
    "outputdf['gender']=df['gender(M-0 F-1)']\n",
    "outputdf['weight']=df['weight']\n",
    "outputdf['height']=df['height']\n",
    "outputdf['average distance']=weekdata['average distance']\n",
    "outputdf['average steps']=weekdata['average steps']\n",
    "outputdf['distance']=todaydata['distance']\n",
    "outputdf['steps']=todaydata['steps']\n",
    "outputdf.head()"
   ]
  },
  {
   "cell_type": "code",
   "execution_count": 6,
   "metadata": {
    "collapsed": true
   },
   "outputs": [],
   "source": [
    "outputdf['minhrs']=0\n",
    "outputdf['maxhrs']=0"
   ]
  },
  {
   "cell_type": "code",
   "execution_count": 7,
   "metadata": {
    "collapsed": true
   },
   "outputs": [],
   "source": [
    "for i in range(200):\n",
    "    if(outputdf['age'][i]>=12 and outputdf['age'][i]<=17):\n",
    "        if(outputdf['steps'][i]<1000):\n",
    "            outputdf['minhrs'][i]=7+outputdf['gender'][i]\n",
    "            outputdf['maxhrs'][i]=8+outputdf['gender'][i]\n",
    "        elif(outputdf['steps'][i]>=1000 and outputdf['steps'][i]<4000):\n",
    "            outputdf['minhrs'][i]=7+outputdf['gender'][i]\n",
    "            outputdf['maxhrs'][i]=9+outputdf['gender'][i]\n",
    "        else:\n",
    "            outputdf['minhrs'][i]=7+outputdf['gender'][i]\n",
    "            outputdf['maxhrs'][i]=9.5+outputdf['gender'][i]    \n",
    "    \n",
    "    elif(outputdf['age'][i]>=18 and outputdf['age'][i]<=25):\n",
    "        if(outputdf['steps'][i]<1000):\n",
    "            outputdf['minhrs'][i]=6+outputdf['gender'][i]\n",
    "            outputdf['maxhrs'][i]=8+outputdf['gender'][i]\n",
    "        elif(outputdf['steps'][i]>=1000 and outputdf['steps'][i]<4000):\n",
    "            outputdf['minhrs'][i]=7+outputdf['gender'][i]\n",
    "            outputdf['maxhrs'][i]=8+outputdf['gender'][i]\n",
    "        else:\n",
    "            outputdf['minhrs'][i]=7+outputdf['gender'][i]\n",
    "            outputdf['maxhrs'][i]=8.5+outputdf['gender'][i]\n",
    "      \n",
    "    elif(outputdf['age'][i]>=26 and outputdf['age'][i]<=64):\n",
    "        if(outputdf['steps'][i]<1000):\n",
    "            outputdf['minhrs'][i]=7+outputdf['gender'][i]\n",
    "            outputdf['maxhrs'][i]=8+outputdf['gender'][i]\n",
    "        elif(outputdf['steps'][i]>=1000 and outputdf['steps'][i]<4000):\n",
    "            outputdf['minhrs'][i]=7+outputdf['gender'][i]\n",
    "            outputdf['maxhrs'][i]=9+outputdf['gender'][i]\n",
    "        else:\n",
    "            outputdf['minhrs'][i]=8+outputdf['gender'][i]\n",
    "            outputdf['maxhrs'][i]=9+outputdf['gender'][i]\n",
    "              \n",
    "    else:\n",
    "        if(outputdf['steps'][i]<1000):\n",
    "            outputdf['minhrs'][i]=7+outputdf['gender'][i]\n",
    "            outputdf['maxhrs'][i]=8+outputdf['gender'][i]\n",
    "        elif(outputdf['steps'][i]>=1000 and outputdf['steps'][i]<4000):\n",
    "            outputdf['minhrs'][i]=7+outputdf['gender'][i]\n",
    "            outputdf['maxhrs'][i]=9+outputdf['gender'][i]\n",
    "        else:\n",
    "            outputdf['minhrs'][i]=7+outputdf['gender'][i]\n",
    "            outputdf['maxhrs'][i]=9+outputdf['gender'][i]\n",
    "              \n"
   ]
  },
  {
   "cell_type": "code",
   "execution_count": null,
   "metadata": {
    "collapsed": true
   },
   "outputs": [],
   "source": []
  },
  {
   "cell_type": "code",
   "execution_count": 8,
   "metadata": {
    "collapsed": true
   },
   "outputs": [],
   "source": [
    "outputdf['BMI']=(outputdf['weight']*10000)//(outputdf['height']*outputdf['height'])\n",
    "# Underweight: Your BMI is less than 18.5\n",
    "# Healthy weight: Your BMI is 18.5 to 24.9\n",
    "# Overweight: Your BMI is 25 to 29.9\n",
    "# Obese: Your BMI is 30 or higher\n"
   ]
  },
  {
   "cell_type": "code",
   "execution_count": null,
   "metadata": {
    "collapsed": true
   },
   "outputs": [],
   "source": []
  },
  {
   "cell_type": "code",
   "execution_count": null,
   "metadata": {
    "collapsed": true
   },
   "outputs": [],
   "source": []
  },
  {
   "cell_type": "code",
   "execution_count": 9,
   "metadata": {
    "collapsed": true
   },
   "outputs": [],
   "source": [
    "API_KEY=\"5fvgZl5e1W3xW6UsQ0RLtBIHfpcvedPmsBrx7Xs\"\n",
    "from usda_ndb_client.client import Client"
   ]
  },
  {
   "cell_type": "code",
   "execution_count": 10,
   "metadata": {
    "collapsed": true
   },
   "outputs": [],
   "source": [
    "dietplans={1:\"Flexible Dieting\",2:\"5:2 Diet\",3:\"Zone Diet\",4:\"Atkins Diet\",5:\"Classic Bodybuilding Diet\"}   "
   ]
  },
  {
   "cell_type": "code",
   "execution_count": 11,
   "metadata": {
    "collapsed": true
   },
   "outputs": [],
   "source": [
    "aboutdiet=[\"Flexible dieting is our recommended diet plan for the majority of people. Many alternative diets are very prescriptive, with very rigid rules and little compatibility with people’s tastes and preferences. There are some rules of course but as the name suggests, the rules are nowhere near as rigid as other diets tend to be. Flexible dieting opens up people’s choices as there is little emphasis on making people only eat certain types of food (although eating a variety of foods and vegetables is encouraged). The diet is essentially based on establishing a daily calorie target (the most important factor in weight control) and slightly looser target ranges for Protein, Carbohydrates and Fats whilst still allowing you to eat the foods you enjoy.   Flexible dieting is ideal for anyone who struggles to stick to a rigid diet because of lifestyle factors or food preferences. Can be the perfect approach to achieve any goal, whether to lose weight, gain weight or build muscle. However, flexible dieting might not work for those who need more structure or prefer adhering to a strict diet. Also, this may not be the best diet for those looking for rapid weight loss.\",\n",
    "          \n",
    "          \n",
    "          ]"
   ]
  },
  {
   "cell_type": "code",
   "execution_count": 12,
   "metadata": {},
   "outputs": [
    {
     "data": {
      "text/plain": [
       "'Flexible dieting is our recommended diet plan for the majority of people. Many alternative diets are very prescriptive, with very rigid rules and little compatibility with people’s tastes and preferences. There are some rules of course but as the name suggests, the rules are nowhere near as rigid as other diets tend to be. Flexible dieting opens up people’s choices as there is little emphasis on making people only eat certain types of food (although eating a variety of foods and vegetables is encouraged). The diet is essentially based on establishing a daily calorie target (the most important factor in weight control) and slightly looser target ranges for Protein, Carbohydrates and Fats whilst still allowing you to eat the foods you enjoy.   Flexible dieting is ideal for anyone who struggles to stick to a rigid diet because of lifestyle factors or food preferences. Can be the perfect approach to achieve any goal, whether to lose weight, gain weight or build muscle. However, flexible dieting might not work for those who need more structure or prefer adhering to a strict diet. Also, this may not be the best diet for those looking for rapid weight loss.'"
      ]
     },
     "execution_count": 12,
     "metadata": {},
     "output_type": "execute_result"
    }
   ],
   "source": [
    "aboutdiet[0]"
   ]
  },
  {
   "cell_type": "code",
   "execution_count": 13,
   "metadata": {
    "collapsed": true
   },
   "outputs": [],
   "source": [
    "\n",
    "import pytest\n",
    "import requests\n",
    "import json\n",
    "from usda_ndb_client.client import Client\n",
    "from mock import patch, Mock\n",
    "from usda_ndb_client.errors import ApiError\n",
    "\n",
    "\n",
    "class TestClient:\n",
    "    BASE_URL = 'https://api.nal.usda.gov/ndb'\n",
    "\n",
    "    @pytest.fixture(scope=\"module\")\n",
    "    def client(self):\n",
    "        return Client(API_KEY)\n",
    "\n",
    "    @pytest.fixture(scope=\"module\")\n",
    "    def error_response(self):\n",
    "        text = '{\"error\": {\"message\": \"whoops!\"}}'\n",
    "\n",
    "        return Mock(\n",
    "          text=text,\n",
    "          status_code=400,\n",
    "          json=lambda: json.loads(text)\n",
    "        )\n",
    "\n",
    "    @pytest.fixture(scope=\"module\")\n",
    "    def sample_response(self):\n",
    "        text = '{\"key1\": \"value1\", \"key2\": \"value2\"}'\n",
    "\n",
    "        return Mock(\n",
    "          text=text,\n",
    "          status_code=200,\n",
    "          json=lambda: json.loads(text)\n",
    "        )\n",
    "\n",
    "    def test_food_report(self, client, sample_response):\n",
    "        with patch('requests.get', return_value=sample_response) as api_call:\n",
    "            res = client.food_report(ndbno='01009')\n",
    "\n",
    "            api_call.assert_called_once_with(\n",
    "                '{0}/{1}'.format(self.BASE_URL, 'V2/reports'),\n",
    "                params={\n",
    "                    'format': 'json', 'ndbno': '01009', 'api_key': API_KEY\n",
    "                }\n",
    "            )\n",
    "\n",
    "            assert len(res.__dict__) == 2\n",
    "            assert res.key1 == 'value1'\n",
    "            assert res.key2 == 'value2'\n",
    "\n",
    "    def test_list(self, client, sample_response):\n",
    "        with patch('requests.get', return_value=sample_response) as api_call:\n",
    "            res = client.list(offset=50)\n",
    "\n",
    "            api_call.assert_called_once_with(\n",
    "                '{0}/{1}'.format(self.BASE_URL, 'list'),\n",
    "                params={\n",
    "                    'format': 'json', 'offset': 50, 'api_key': API_KEY\n",
    "                }\n",
    "            )\n",
    "\n",
    "            assert len(res.__dict__) == 2\n",
    "            assert res.key1 == 'value1'\n",
    "            assert res.key2 == 'value2'\n",
    "\n",
    "    def test_nutrients(self, client, sample_response):\n",
    "        with patch('requests.get', return_value=sample_response) as api_call:\n",
    "            res = client.nutrients(nutrients='010000')\n",
    "\n",
    "            api_call.assert_called_once_with(\n",
    "                '{0}/{1}'.format(self.BASE_URL, 'nutrients'),\n",
    "                params={\n",
    "                    'format': 'json', 'nutrients': '010000',\n",
    "                    'api_key': API_KEY\n",
    "                }\n",
    "            )\n",
    "\n",
    "            assert len(res.__dict__) == 2\n",
    "            assert res.key1 == 'value1'\n",
    "            assert res.key2 == 'value2'\n",
    "\n",
    "    def test_search(self, client, sample_response):\n",
    "        with patch('requests.get', return_value=sample_response) as api_call:\n",
    "            res = client.search(q='butter')\n",
    "\n",
    "            api_call.assert_called_once_with(\n",
    "                '{0}/{1}'.format(self.BASE_URL, 'search'),\n",
    "                params={\n",
    "                    'format': 'json', 'q': 'butter',\n",
    "                    'api_key': API_KEY\n",
    "                }\n",
    "            )\n",
    "\n",
    "            assert len(res.__dict__) == 2\n",
    "            assert res.key1 == 'value1'\n",
    "            assert res.key2 == 'value2'\n",
    "\n",
    "    def test_api_error(self, client, error_response):\n",
    "        with patch('requests.get', return_value=error_response) as api_call:\n",
    "            with pytest.raises(ApiError):\n",
    "                client.search(q='butter')\n"
   ]
  },
  {
   "cell_type": "code",
   "execution_count": 57,
   "metadata": {},
   "outputs": [
    {
     "name": "stdout",
     "output_type": "stream",
     "text": [
      "Beverages, coffee, instant, regular, prepared with water\n"
     ]
    }
   ],
   "source": [
    "client = Client(API_KEY)\n",
    "data = client.food_report(ndbno='14215')\n",
    "print(data.foods[0].food.desc.name)"
   ]
  },
  {
   "cell_type": "code",
   "execution_count": 58,
   "metadata": {},
   "outputs": [
    {
     "data": {
      "text/plain": [
       "{'api': 2.0,\n",
       " 'count': 1,\n",
       " 'foods': [<usda_ndb_client.odict.ODict at 0x10e256dd8>],\n",
       " 'notfound': 0}"
      ]
     },
     "execution_count": 58,
     "metadata": {},
     "output_type": "execute_result"
    }
   ],
   "source": [
    "data.__dict__"
   ]
  },
  {
   "cell_type": "code",
   "execution_count": 59,
   "metadata": {},
   "outputs": [
    {
     "data": {
      "text/plain": [
       "{'derivation': 'RPI',\n",
       " 'group': 'Proximates',\n",
       " 'measures': [<usda_ndb_client.odict.ODict at 0x10d8cf630>,\n",
       "  <usda_ndb_client.odict.ODict at 0x10d8cf518>],\n",
       " 'name': 'Protein',\n",
       " 'nutrient_id': '203',\n",
       " 'unit': 'g',\n",
       " 'value': '0.10'}"
      ]
     },
     "execution_count": 59,
     "metadata": {},
     "output_type": "execute_result"
    }
   ],
   "source": [
    "data.foods[0].food.nutrients[2].__dict__"
   ]
  },
  {
   "cell_type": "code",
   "execution_count": 60,
   "metadata": {},
   "outputs": [
    {
     "data": {
      "text/plain": [
       "{'food': <usda_ndb_client.odict.ODict at 0x10e256da0>}"
      ]
     },
     "execution_count": 60,
     "metadata": {},
     "output_type": "execute_result"
    }
   ],
   "source": [
    "data.foods[0].__dict__"
   ]
  },
  {
   "cell_type": "code",
   "execution_count": 61,
   "metadata": {},
   "outputs": [
    {
     "data": {
      "text/plain": [
       "{'ds': 'Standard Reference',\n",
       " 'manu': '',\n",
       " 'name': 'Beverages, coffee, instant, regular, prepared with water',\n",
       " 'ndbno': '14215',\n",
       " 'ru': 'g'}"
      ]
     },
     "execution_count": 61,
     "metadata": {},
     "output_type": "execute_result"
    }
   ],
   "source": [
    "data.foods[0].food.desc.__dict__"
   ]
  },
  {
   "cell_type": "code",
   "execution_count": 62,
   "metadata": {
    "collapsed": true
   },
   "outputs": [],
   "source": [
    "d1 = client.list(offset=50)"
   ]
  },
  {
   "cell_type": "code",
   "execution_count": 63,
   "metadata": {},
   "outputs": [
    {
     "data": {
      "text/plain": [
       "{'id': '45368553',\n",
       " 'name': '\"\"BACN,BITS,FC,FINE,FL,2/5#\"\", PREPARED, GTIN: 10070247172881',\n",
       " 'offset': 50}"
      ]
     },
     "execution_count": 63,
     "metadata": {},
     "output_type": "execute_result"
    }
   ],
   "source": [
    "d1.list.item[0].__dict__"
   ]
  },
  {
   "cell_type": "code",
   "execution_count": 64,
   "metadata": {},
   "outputs": [
    {
     "data": {
      "text/plain": [
       "{'end': 50,\n",
       " 'item': [<usda_ndb_client.odict.ODict at 0x10e238a58>,\n",
       "  <usda_ndb_client.odict.ODict at 0x10e238cf8>,\n",
       "  <usda_ndb_client.odict.ODict at 0x10e238400>,\n",
       "  <usda_ndb_client.odict.ODict at 0x10e2382e8>,\n",
       "  <usda_ndb_client.odict.ODict at 0x10e233da0>,\n",
       "  <usda_ndb_client.odict.ODict at 0x10e233fd0>,\n",
       "  <usda_ndb_client.odict.ODict at 0x10e21a470>,\n",
       "  <usda_ndb_client.odict.ODict at 0x10e21a400>,\n",
       "  <usda_ndb_client.odict.ODict at 0x10e21a5c0>,\n",
       "  <usda_ndb_client.odict.ODict at 0x10e21ac18>,\n",
       "  <usda_ndb_client.odict.ODict at 0x10e21a9e8>,\n",
       "  <usda_ndb_client.odict.ODict at 0x10e21aac8>,\n",
       "  <usda_ndb_client.odict.ODict at 0x10e24b198>,\n",
       "  <usda_ndb_client.odict.ODict at 0x10e24b208>,\n",
       "  <usda_ndb_client.odict.ODict at 0x10e24b240>,\n",
       "  <usda_ndb_client.odict.ODict at 0x10e24b278>,\n",
       "  <usda_ndb_client.odict.ODict at 0x10e24b2b0>,\n",
       "  <usda_ndb_client.odict.ODict at 0x10e24b2e8>,\n",
       "  <usda_ndb_client.odict.ODict at 0x10e24b320>,\n",
       "  <usda_ndb_client.odict.ODict at 0x10e24b358>,\n",
       "  <usda_ndb_client.odict.ODict at 0x10e24b390>,\n",
       "  <usda_ndb_client.odict.ODict at 0x10e24b3c8>,\n",
       "  <usda_ndb_client.odict.ODict at 0x10e24b400>,\n",
       "  <usda_ndb_client.odict.ODict at 0x10e24b438>,\n",
       "  <usda_ndb_client.odict.ODict at 0x10e24b470>,\n",
       "  <usda_ndb_client.odict.ODict at 0x10e24b4a8>,\n",
       "  <usda_ndb_client.odict.ODict at 0x10e24b4e0>,\n",
       "  <usda_ndb_client.odict.ODict at 0x10e24b518>,\n",
       "  <usda_ndb_client.odict.ODict at 0x10e24b550>,\n",
       "  <usda_ndb_client.odict.ODict at 0x10e24b588>,\n",
       "  <usda_ndb_client.odict.ODict at 0x10e24b5c0>,\n",
       "  <usda_ndb_client.odict.ODict at 0x10e24b5f8>,\n",
       "  <usda_ndb_client.odict.ODict at 0x10e24b630>,\n",
       "  <usda_ndb_client.odict.ODict at 0x10e24b668>,\n",
       "  <usda_ndb_client.odict.ODict at 0x10e24b6a0>,\n",
       "  <usda_ndb_client.odict.ODict at 0x10e24b6d8>,\n",
       "  <usda_ndb_client.odict.ODict at 0x10e24b710>,\n",
       "  <usda_ndb_client.odict.ODict at 0x10e24b748>,\n",
       "  <usda_ndb_client.odict.ODict at 0x10e24b780>,\n",
       "  <usda_ndb_client.odict.ODict at 0x10e24b7b8>,\n",
       "  <usda_ndb_client.odict.ODict at 0x10e24b7f0>,\n",
       "  <usda_ndb_client.odict.ODict at 0x10e24b828>,\n",
       "  <usda_ndb_client.odict.ODict at 0x10e24b860>,\n",
       "  <usda_ndb_client.odict.ODict at 0x10e24b898>,\n",
       "  <usda_ndb_client.odict.ODict at 0x10e24b8d0>,\n",
       "  <usda_ndb_client.odict.ODict at 0x10e24b908>,\n",
       "  <usda_ndb_client.odict.ODict at 0x10e24b940>,\n",
       "  <usda_ndb_client.odict.ODict at 0x10e24b978>,\n",
       "  <usda_ndb_client.odict.ODict at 0x10e24b9b0>,\n",
       "  <usda_ndb_client.odict.ODict at 0x10e24b9e8>],\n",
       " 'lt': 'f',\n",
       " 'sort': 'n',\n",
       " 'sr': '1',\n",
       " 'start': 50,\n",
       " 'total': 50}"
      ]
     },
     "execution_count": 64,
     "metadata": {},
     "output_type": "execute_result"
    }
   ],
   "source": [
    "d1.list.__dict__"
   ]
  },
  {
   "cell_type": "code",
   "execution_count": null,
   "metadata": {
    "collapsed": true
   },
   "outputs": [],
   "source": []
  },
  {
   "cell_type": "code",
   "execution_count": 65,
   "metadata": {
    "collapsed": true
   },
   "outputs": [],
   "source": [
    "res1 = client.search(q='coffee, instant, regular, prepared with water')"
   ]
  },
  {
   "cell_type": "code",
   "execution_count": 66,
   "metadata": {},
   "outputs": [
    {
     "data": {
      "text/plain": [
       "{'ds': 'SR',\n",
       " 'group': 'Beverages',\n",
       " 'manu': 'none',\n",
       " 'name': 'Beverages, coffee, instant, regular, prepared with water',\n",
       " 'ndbno': '14215',\n",
       " 'offset': 0}"
      ]
     },
     "execution_count": 66,
     "metadata": {},
     "output_type": "execute_result"
    }
   ],
   "source": [
    "res1.list.item[0].__dict__"
   ]
  },
  {
   "cell_type": "code",
   "execution_count": 67,
   "metadata": {},
   "outputs": [
    {
     "data": {
      "text/plain": [
       "{'ds': 'any',\n",
       " 'end': 2,\n",
       " 'group': '',\n",
       " 'item': [<usda_ndb_client.odict.ODict at 0x10d9d4d68>,\n",
       "  <usda_ndb_client.odict.ODict at 0x10d9d4fd0>],\n",
       " 'q': 'coffee, instant, regular, prepared with water',\n",
       " 'sort': 'r',\n",
       " 'sr': '1',\n",
       " 'start': 0,\n",
       " 'total': 2}"
      ]
     },
     "execution_count": 67,
     "metadata": {},
     "output_type": "execute_result"
    }
   ],
   "source": [
    "res1.list.__dict__"
   ]
  },
  {
   "cell_type": "code",
   "execution_count": null,
   "metadata": {
    "collapsed": true
   },
   "outputs": [],
   "source": []
  },
  {
   "cell_type": "code",
   "execution_count": 68,
   "metadata": {
    "collapsed": true
   },
   "outputs": [],
   "source": [
    "d2 = client.nutrients(nutrients='255')"
   ]
  },
  {
   "cell_type": "code",
   "execution_count": 69,
   "metadata": {},
   "outputs": [
    {
     "data": {
      "text/plain": [
       "{'measure': '0.5 cup',\n",
       " 'name': 'Abiyuch, raw',\n",
       " 'ndbno': '09427',\n",
       " 'nutrients': [<usda_ndb_client.odict.ODict at 0x10d9e01d0>],\n",
       " 'weight': 114.0}"
      ]
     },
     "execution_count": 69,
     "metadata": {},
     "output_type": "execute_result"
    }
   ],
   "source": [
    "d2.report.foods[0].__dict__"
   ]
  },
  {
   "cell_type": "code",
   "execution_count": 70,
   "metadata": {},
   "outputs": [
    {
     "name": "stdout",
     "output_type": "stream",
     "text": [
      "{'nutrient_id': '255', 'nutrient': 'Water', 'unit': 'g', 'value': '91.09', 'gm': 79.9}\n"
     ]
    }
   ],
   "source": [
    "for i in range(1):\n",
    "    print(d2.report.foods[0].nutrients[i].__dict__)\n",
    "# d2.report.foods[0].nutrients[0].__dict__"
   ]
  },
  {
   "cell_type": "code",
   "execution_count": 71,
   "metadata": {
    "collapsed": true
   },
   "outputs": [],
   "source": [
    "aa=client.search(q='pav bhaji')"
   ]
  },
  {
   "cell_type": "code",
   "execution_count": 72,
   "metadata": {},
   "outputs": [
    {
     "data": {
      "text/plain": [
       "{'ds': 'LI',\n",
       " 'group': 'Branded Food Products Database',\n",
       " 'manu': 'none',\n",
       " 'name': 'KITCHENS OF INDIA, MASHED VEGETABLE CURRY, PAV BHAJI, UPC: 841905010714',\n",
       " 'ndbno': '45238355',\n",
       " 'offset': 0}"
      ]
     },
     "execution_count": 72,
     "metadata": {},
     "output_type": "execute_result"
    }
   ],
   "source": [
    "aa.list.item[0].__dict__"
   ]
  },
  {
   "cell_type": "code",
   "execution_count": 1,
   "metadata": {},
   "outputs": [],
   "source": [
    "aa.list.item[0].nbdno"
   ]
  },
  {
   "cell_type": "code",
   "execution_count": null,
   "metadata": {
    "collapsed": true
   },
   "outputs": [],
   "source": [
    "data = client.food_report(ndbno='45238355')\n",
    "print(data.foods[0].food.desc.name)"
   ]
  },
  {
   "cell_type": "code",
   "execution_count": null,
   "metadata": {
    "collapsed": true
   },
   "outputs": [],
   "source": [
    "data.foods[0].food.nutrients[0].__dict__"
   ]
  },
  {
   "cell_type": "code",
   "execution_count": null,
   "metadata": {
    "collapsed": true
   },
   "outputs": [],
   "source": [
    "for k in data.foods[0].food.nutrients:\n",
    "    print(k.name,\" \",k.value)"
   ]
  },
  {
   "cell_type": "code",
   "execution_count": null,
   "metadata": {
    "collapsed": true
   },
   "outputs": [],
   "source": []
  },
  {
   "cell_type": "code",
   "execution_count": null,
   "metadata": {
    "collapsed": true
   },
   "outputs": [],
   "source": []
  }
 ],
 "metadata": {
  "kernelspec": {
   "display_name": "Python 3",
   "language": "python",
   "name": "python3"
  },
  "language_info": {
   "codemirror_mode": {
    "name": "ipython",
    "version": 3
   },
   "file_extension": ".py",
   "mimetype": "text/x-python",
   "name": "python",
   "nbconvert_exporter": "python",
   "pygments_lexer": "ipython3",
   "version": "3.6.5"
  }
 },
 "nbformat": 4,
 "nbformat_minor": 2
}
