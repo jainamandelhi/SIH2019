{
 "cells": [
  {
   "cell_type": "code",
   "execution_count": 16,
   "metadata": {
    "collapsed": true
   },
   "outputs": [],
   "source": [
    "API_KEY=\"5fvgZl5e1W3xW6UsQ0RLtBIHfpcvedPmsBrx7X\"\n",
    "from usda_ndb_client.client import Client\n",
    "import pytest\n",
    "import requests\n",
    "import json\n",
    "from usda_ndb_client.client import Client\n",
    "from mock import patch, Mock\n",
    "from usda_ndb_client.errors import ApiError\n",
    "import pandas as pd\n",
    "import numpy as no\n",
    "from random import randint\n",
    "client = Client(API_KEY)"
   ]
  },
  {
   "cell_type": "code",
   "execution_count": 24,
   "metadata": {
    "collapsed": true
   },
   "outputs": [],
   "source": [
    "breakf = pd.DataFrame(columns=[\"item\",\"energy\"])\n",
    "bf = pd.DataFrame(columns=[\"item\",\"energy\"])"
   ]
  },
  {
   "cell_type": "code",
   "execution_count": 25,
   "metadata": {},
   "outputs": [
    {
     "data": {
      "text/html": [
       "<div>\n",
       "<style>\n",
       "    .dataframe thead tr:only-child th {\n",
       "        text-align: right;\n",
       "    }\n",
       "\n",
       "    .dataframe thead th {\n",
       "        text-align: left;\n",
       "    }\n",
       "\n",
       "    .dataframe tbody tr th {\n",
       "        vertical-align: top;\n",
       "    }\n",
       "</style>\n",
       "<table border=\"1\" class=\"dataframe\">\n",
       "  <thead>\n",
       "    <tr style=\"text-align: right;\">\n",
       "      <th></th>\n",
       "      <th>item</th>\n",
       "      <th>energy</th>\n",
       "    </tr>\n",
       "  </thead>\n",
       "  <tbody>\n",
       "  </tbody>\n",
       "</table>\n",
       "</div>"
      ],
      "text/plain": [
       "Empty DataFrame\n",
       "Columns: [item, energy]\n",
       "Index: []"
      ]
     },
     "execution_count": 25,
     "metadata": {},
     "output_type": "execute_result"
    }
   ],
   "source": [
    "breakf"
   ]
  },
  {
   "cell_type": "code",
   "execution_count": 26,
   "metadata": {
    "collapsed": true
   },
   "outputs": [],
   "source": [
    "breakf=breakf.append(pd.Series([\"idli sambar (400gm)\",700],index=bf.columns), ignore_index=True)\n",
    "breakf=breakf.append(pd.Series([\"sambar rice (550gm)\",720],index=bf.columns), ignore_index=True)\n",
    "breakf=breakf.append(pd.Series([\"chick pea curry (100gm), brown rice (100gm) \",520],index=bf.columns), ignore_index=True)\n",
    "breakf=breakf.append(pd.Series([\"banana (200gm), Greek Yogurt \",800],index=bf.columns), ignore_index=True)\n",
    "breakf=breakf.append(pd.Series([\"fruit juice (400ml), club sandwich (200gm)\",710],index=bf.columns), ignore_index=True)\n",
    "breakf=breakf.append(pd.Series([\"vegetable salad (300gm), papaya (200gm) \",521],index=bf.columns), ignore_index=True)\n",
    "breakf=breakf.append(pd.Series([\"cooked sprouts (400gm), poha (300gm) \",530],index=bf.columns), ignore_index=True)\n",
    "breakf=breakf.append(pd.Series([\"boiled eggs (300gm) \",465],index=bf.columns), ignore_index=True)"
   ]
  },
  {
   "cell_type": "code",
   "execution_count": 28,
   "metadata": {
    "collapsed": true
   },
   "outputs": [],
   "source": [
    "breakf.to_csv(\"south.csv\")"
   ]
  },
  {
   "cell_type": "code",
   "execution_count": null,
   "metadata": {
    "collapsed": true
   },
   "outputs": [],
   "source": []
  },
  {
   "cell_type": "code",
   "execution_count": 2,
   "metadata": {
    "collapsed": true
   },
   "outputs": [],
   "source": [
    "df=pd.DataFrame(columns=[\"date\",\"breakfast\",\"lunch\",\"snacks\",\"Dinner\"])"
   ]
  },
  {
   "cell_type": "code",
   "execution_count": 3,
   "metadata": {
    "collapsed": true
   },
   "outputs": [],
   "source": [
    "Breakfast_List=[\"boiled eggs\",\"pancake\",\"oats\",\"banana\",\"apple\",\"soy milk\",\"Vegetable Salad\",\"green salad\",\n",
    "               \"cooked sprouts\",\"poha\",\"club sandwich\",\"fruit juice\",\"Smoothie\",\n",
    "                \"Vanilla Greek Yogurt\",\"papaya\"]"
   ]
  },
  {
   "cell_type": "code",
   "execution_count": 4,
   "metadata": {
    "collapsed": true
   },
   "outputs": [],
   "source": [
    "bf=pd.DataFrame(columns={\"item\",\"energy\"})\n",
    "for i in Breakfast_List:\n",
    "    q1 = client.search(q=i)\n",
    "    ndbnum=q1.list.item[0].ndbno\n",
    "    data = client.food_report(ndbno=ndbnum)\n",
    "    energy=200\n",
    "    for k in data.foods[0].food.nutrients:\n",
    "        if(k.name==\"Energy\"):\n",
    "            energy=k.value\n",
    "    bf=bf.append(pd.Series([i,energy],index=bf.columns), ignore_index=True)\n",
    "    "
   ]
  },
  {
   "cell_type": "code",
   "execution_count": 5,
   "metadata": {
    "collapsed": true
   },
   "outputs": [],
   "source": [
    "bf"
   ]
  },
  {
   "cell_type": "code",
   "execution_count": 6,
   "metadata": {
    "collapsed": true
   },
   "outputs": [],
   "source": [
    "breakfast_list=pd.DataFrame(columns={\"item\",\"energy\"})\n",
    "breakfast_list=breakfast_list.append(pd.Series([\"boiled eggs (300gm) \",465],index=bf.columns), ignore_index=True)\n",
    "breakfast_list=breakfast_list.append(pd.Series([\"pancakes (200gm) \",536],index=bf.columns), ignore_index=True)\n",
    "breakfast_list=breakfast_list.append(pd.Series([\"oats (200gm) \",728],index=bf.columns), ignore_index=True)\n",
    "breakfast_list=breakfast_list.append(pd.Series([\"banana (200gm), Greek Yogurt \",800],index=bf.columns), ignore_index=True)\n",
    "breakfast_list=breakfast_list.append(pd.Series([\"fruit juice (400ml), club sandwich (200gm)\",710],index=bf.columns), ignore_index=True)\n",
    "breakfast_list=breakfast_list.append(pd.Series([\"vegetable salad (300gm), papaya (200gm) \",521],index=bf.columns), ignore_index=True)\n",
    "breakfast_list=breakfast_list.append(pd.Series([\"cooked sprouts (400gm), poha (300gm) \",530],index=bf.columns), ignore_index=True)"
   ]
  },
  {
   "cell_type": "code",
   "execution_count": 7,
   "metadata": {
    "collapsed": true
   },
   "outputs": [],
   "source": [
    "breakfast_list.to_csv(\"breakfast.csv\")"
   ]
  },
  {
   "cell_type": "code",
   "execution_count": null,
   "metadata": {
    "collapsed": true
   },
   "outputs": [],
   "source": []
  },
  {
   "cell_type": "code",
   "execution_count": null,
   "metadata": {
    "collapsed": true
   },
   "outputs": [],
   "source": []
  },
  {
   "cell_type": "code",
   "execution_count": null,
   "metadata": {
    "collapsed": true
   },
   "outputs": [],
   "source": []
  },
  {
   "cell_type": "code",
   "execution_count": 8,
   "metadata": {
    "collapsed": true
   },
   "outputs": [],
   "source": [
    "Lunch_List=[\"mixed-vegetable curry\",\"Whole grain roti\",\"chick pea curry\",\n",
    "            \"brown rice\",\"vegetable soup\",\"green vegetable salad\",\"fruit salad\",\"fruit juice\",\"smoothie\",\"club sandwich\",\"boiled vegetables\"]"
   ]
  },
  {
   "cell_type": "code",
   "execution_count": 9,
   "metadata": {
    "collapsed": true
   },
   "outputs": [],
   "source": [
    "ll=pd.DataFrame(columns={\"item\",\"energy\"})\n",
    "for i in Lunch_List:\n",
    "    q1 = client.search(q=i)\n",
    "    ndbnum=q1.list.item[0].ndbno\n",
    "    data = client.food_report(ndbno=ndbnum)\n",
    "    energy=200\n",
    "    for k in data.foods[0].food.nutrients:\n",
    "        if(k.name==\"Energy\"):\n",
    "            energy=k.value\n",
    "            \n",
    "    ll=ll.append(pd.Series([i,energy],index=bf.columns), ignore_index=True)"
   ]
  },
  {
   "cell_type": "code",
   "execution_count": 10,
   "metadata": {
    "collapsed": true
   },
   "outputs": [],
   "source": [
    "ll"
   ]
  },
  {
   "cell_type": "code",
   "execution_count": 11,
   "metadata": {
    "collapsed": true
   },
   "outputs": [],
   "source": [
    "lunch=pd.DataFrame(columns={\"item\",\"energy\"})\n",
    "lunch=lunch.append(pd.Series([\"mixed-vegetable curry (300gm),Whole grain roti (200gm)  \",520],index=bf.columns), ignore_index=True)\n",
    "lunch=lunch.append(pd.Series([\"boiled vegetables (500gm) \",350],index=bf.columns), ignore_index=True)\n",
    "lunch=lunch.append(pd.Series([\"chick pea curry (100gm), brown rice (100gm) \",520],index=bf.columns), ignore_index=True)\n",
    "lunch=lunch.append(pd.Series([\"vegetable soup (400ml) \",800],index=bf.columns), ignore_index=True)\n",
    "lunch=lunch.append(pd.Series([\"fruit juice (400ml), club sandwich (200gm)\",710],index=bf.columns), ignore_index=True)\n",
    "lunch=lunch.append(pd.Series([\"vegetable salad (300gm), papaya (200gm) \",521],index=bf.columns), ignore_index=True)\n",
    "lunch=lunch.append(pd.Series([\"cooked sprouts (400gm), poha (300gm) \",530],index=bf.columns), ignore_index=True)"
   ]
  },
  {
   "cell_type": "code",
   "execution_count": 12,
   "metadata": {
    "collapsed": true
   },
   "outputs": [],
   "source": [
    "lunch.to_csv(\"lunch.csv\")"
   ]
  },
  {
   "cell_type": "code",
   "execution_count": 15,
   "metadata": {
    "collapsed": true
   },
   "outputs": [],
   "source": [
    "lunch"
   ]
  },
  {
   "cell_type": "code",
   "execution_count": 14,
   "metadata": {
    "collapsed": true
   },
   "outputs": [],
   "source": [
    "Snacks_List=[\"greek yogurt\",\"almonds\",\"flaxseeds\"]"
   ]
  },
  {
   "cell_type": "code",
   "execution_count": 295,
   "metadata": {
    "collapsed": true
   },
   "outputs": [],
   "source": [
    "sn=pd.DataFrame(columns={\"item\",\"energy\"})\n",
    "for i in Snacks_List:\n",
    "    q1 = client.search(q=i)\n",
    "    ndbnum=q1.list.item[0].ndbno\n",
    "    data = client.food_report(ndbno=ndbnum)\n",
    "    energy=200\n",
    "    for k in data.foods[0].food.nutrients:\n",
    "        if(k.name==\"Energy\"):\n",
    "            energy=k.value\n",
    "    sn=sn.append(pd.Series([i,energy],index=bf.columns), ignore_index=True)"
   ]
  },
  {
   "cell_type": "code",
   "execution_count": 296,
   "metadata": {},
   "outputs": [
    {
     "data": {
      "text/html": [
       "<div>\n",
       "<style>\n",
       "    .dataframe thead tr:only-child th {\n",
       "        text-align: right;\n",
       "    }\n",
       "\n",
       "    .dataframe thead th {\n",
       "        text-align: left;\n",
       "    }\n",
       "\n",
       "    .dataframe tbody tr th {\n",
       "        vertical-align: top;\n",
       "    }\n",
       "</style>\n",
       "<table border=\"1\" class=\"dataframe\">\n",
       "  <thead>\n",
       "    <tr style=\"text-align: right;\">\n",
       "      <th></th>\n",
       "      <th>item</th>\n",
       "      <th>energy</th>\n",
       "    </tr>\n",
       "  </thead>\n",
       "  <tbody>\n",
       "    <tr>\n",
       "      <th>0</th>\n",
       "      <td>greek yogurt</td>\n",
       "      <td>345</td>\n",
       "    </tr>\n",
       "    <tr>\n",
       "      <th>1</th>\n",
       "      <td>almonds</td>\n",
       "      <td>29</td>\n",
       "    </tr>\n",
       "    <tr>\n",
       "      <th>2</th>\n",
       "      <td>flaxseeds</td>\n",
       "      <td>878</td>\n",
       "    </tr>\n",
       "  </tbody>\n",
       "</table>\n",
       "</div>"
      ],
      "text/plain": [
       "           item energy\n",
       "0  greek yogurt    345\n",
       "1       almonds     29\n",
       "2     flaxseeds    878"
      ]
     },
     "execution_count": 296,
     "metadata": {},
     "output_type": "execute_result"
    }
   ],
   "source": [
    "sn"
   ]
  },
  {
   "cell_type": "code",
   "execution_count": null,
   "metadata": {
    "collapsed": true
   },
   "outputs": [],
   "source": []
  },
  {
   "cell_type": "code",
   "execution_count": 22,
   "metadata": {},
   "outputs": [
    {
     "name": "stdout",
     "output_type": "stream",
     "text": [
      "apples\n"
     ]
    }
   ],
   "source": [
    "query=input()"
   ]
  },
  {
   "cell_type": "code",
   "execution_count": 35,
   "metadata": {
    "collapsed": true
   },
   "outputs": [],
   "source": [
    "# query not found"
   ]
  },
  {
   "cell_type": "code",
   "execution_count": 306,
   "metadata": {
    "collapsed": true
   },
   "outputs": [],
   "source": [
    "q1 = client.search(q=\"orange\")\n",
    "ndbnum=q1.list.item[0].ndbno"
   ]
  },
  {
   "cell_type": "code",
   "execution_count": 307,
   "metadata": {},
   "outputs": [
    {
     "data": {
      "text/plain": [
       "{'list': <usda_ndb_client.odict.ODict at 0x11980b6a0>}"
      ]
     },
     "execution_count": 307,
     "metadata": {},
     "output_type": "execute_result"
    }
   ],
   "source": [
    "q1.__dict__"
   ]
  },
  {
   "cell_type": "code",
   "execution_count": 308,
   "metadata": {},
   "outputs": [
    {
     "name": "stdout",
     "output_type": "stream",
     "text": [
      "WOONGJIN, ORANGE JUICE WITH ORANGE PIECES, ORANGE, UPC: 8801382144748\n"
     ]
    }
   ],
   "source": [
    "data = client.food_report(ndbno=ndbnum)\n",
    "print(data.foods[0].food.desc.name)"
   ]
  },
  {
   "cell_type": "code",
   "execution_count": 309,
   "metadata": {},
   "outputs": [
    {
     "name": "stdout",
     "output_type": "stream",
     "text": [
      "Energy   59\n",
      "Protein   0.00\n",
      "Total lipid (fat)   0.00\n",
      "Carbohydrate, by difference   14.71\n",
      "Fiber, total dietary   0.0\n",
      "Sugars, total   13.87\n",
      "Calcium, Ca   0\n",
      "Iron, Fe   0.00\n",
      "Sodium, Na   11\n",
      "Vitamin C, total ascorbic acid   10.6\n",
      "Vitamin A, IU   0\n",
      "Fatty acids, total saturated   0.000\n",
      "Fatty acids, total trans   0.000\n"
     ]
    }
   ],
   "source": [
    "for k in data.foods[0].food.nutrients:\n",
    "    print(k.name,\" \",k.value)"
   ]
  }
 ],
 "metadata": {
  "kernelspec": {
   "display_name": "Python 3",
   "language": "python",
   "name": "python3"
  },
  "language_info": {
   "codemirror_mode": {
    "name": "ipython",
    "version": 3
   },
   "file_extension": ".py",
   "mimetype": "text/x-python",
   "name": "python",
   "nbconvert_exporter": "python",
   "pygments_lexer": "ipython3",
   "version": "3.6.5"
  }
 },
 "nbformat": 4,
 "nbformat_minor": 2
}
